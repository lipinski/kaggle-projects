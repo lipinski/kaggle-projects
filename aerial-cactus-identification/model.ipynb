{
 "cells": [
  {
   "cell_type": "code",
   "execution_count": 35,
   "metadata": {},
   "outputs": [
    {
     "ename": "ModuleNotFoundError",
     "evalue": "No module named 'seaborn'",
     "output_type": "error",
     "traceback": [
      "\u001b[0;31m---------------------------------------------------------------------------\u001b[0m",
      "\u001b[0;31mModuleNotFoundError\u001b[0m                       Traceback (most recent call last)",
      "\u001b[0;32m<ipython-input-35-c8e8aa4cfe68>\u001b[0m in \u001b[0;36m<module>\u001b[0;34m()\u001b[0m\n\u001b[1;32m      3\u001b[0m \u001b[0;32mimport\u001b[0m \u001b[0mpandas\u001b[0m \u001b[0;32mas\u001b[0m \u001b[0mpd\u001b[0m\u001b[0;34m\u001b[0m\u001b[0;34m\u001b[0m\u001b[0m\n\u001b[1;32m      4\u001b[0m \u001b[0;32mimport\u001b[0m \u001b[0mmatplotlib\u001b[0m\u001b[0;34m.\u001b[0m\u001b[0mpyplot\u001b[0m \u001b[0;32mas\u001b[0m \u001b[0mplt\u001b[0m\u001b[0;34m\u001b[0m\u001b[0;34m\u001b[0m\u001b[0m\n\u001b[0;32m----> 5\u001b[0;31m \u001b[0;32mimport\u001b[0m \u001b[0mseaborn\u001b[0m \u001b[0;32mas\u001b[0m \u001b[0msns\u001b[0m\u001b[0;34m\u001b[0m\u001b[0;34m\u001b[0m\u001b[0m\n\u001b[0m",
      "\u001b[0;31mModuleNotFoundError\u001b[0m: No module named 'seaborn'"
     ]
    }
   ],
   "source": [
    "import os\n",
    "import tensorflow as tf\n",
    "import pandas as pd\n",
    "import matplotlib.pyplot as plt\n",
    "import seaborn as sns"
   ]
  },
  {
   "cell_type": "code",
   "execution_count": 2,
   "metadata": {},
   "outputs": [
    {
     "data": {
      "text/plain": [
       "'2.2.4-tf'"
      ]
     },
     "execution_count": 2,
     "metadata": {},
     "output_type": "execute_result"
    }
   ],
   "source": [
    "tf.keras.__version__"
   ]
  },
  {
   "cell_type": "code",
   "execution_count": 3,
   "metadata": {},
   "outputs": [
    {
     "name": "stdout",
     "output_type": "stream",
     "text": [
      "The following GPU devices are available: /device:GPU:0\n"
     ]
    }
   ],
   "source": [
    "tf.config.gpu.set_per_process_memory_growth(True)\n",
    "# sess = tf.compat.v1.Session(config = config)\n",
    "\n",
    "# Check available GPU devices.\n",
    "print(\"The following GPU devices are available: %s\" % tf.test.gpu_device_name())"
   ]
  },
  {
   "cell_type": "markdown",
   "metadata": {},
   "source": [
    "## Loading datasets"
   ]
  },
  {
   "cell_type": "markdown",
   "metadata": {},
   "source": [
    "Data source: https://www.kaggle.com/c/aerial-cactus-identification/data"
   ]
  },
  {
   "cell_type": "markdown",
   "metadata": {},
   "source": [
    "### Move train set to subdirs for each class"
   ]
  },
  {
   "cell_type": "code",
   "execution_count": 4,
   "metadata": {},
   "outputs": [],
   "source": [
    "%%bash \n",
    "unzip train.zip -d dataset/ > /dev/null 2>&1"
   ]
  },
  {
   "cell_type": "code",
   "execution_count": 5,
   "metadata": {},
   "outputs": [
    {
     "data": {
      "text/html": [
       "<div>\n",
       "<style scoped>\n",
       "    .dataframe tbody tr th:only-of-type {\n",
       "        vertical-align: middle;\n",
       "    }\n",
       "\n",
       "    .dataframe tbody tr th {\n",
       "        vertical-align: top;\n",
       "    }\n",
       "\n",
       "    .dataframe thead th {\n",
       "        text-align: right;\n",
       "    }\n",
       "</style>\n",
       "<table border=\"1\" class=\"dataframe\">\n",
       "  <thead>\n",
       "    <tr style=\"text-align: right;\">\n",
       "      <th></th>\n",
       "      <th>id</th>\n",
       "      <th>has_cactus</th>\n",
       "      <th>label</th>\n",
       "      <th>path</th>\n",
       "    </tr>\n",
       "  </thead>\n",
       "  <tbody>\n",
       "    <tr>\n",
       "      <th>0</th>\n",
       "      <td>0004be2cfeaba1c0361d39e2b000257b.jpg</td>\n",
       "      <td>1</td>\n",
       "      <td>cactus</td>\n",
       "      <td>dataset/train/cactus/0004be2cfeaba1c0361d39e2b...</td>\n",
       "    </tr>\n",
       "    <tr>\n",
       "      <th>1</th>\n",
       "      <td>000c8a36845c0208e833c79c1bffedd1.jpg</td>\n",
       "      <td>1</td>\n",
       "      <td>cactus</td>\n",
       "      <td>dataset/train/cactus/000c8a36845c0208e833c79c1...</td>\n",
       "    </tr>\n",
       "    <tr>\n",
       "      <th>2</th>\n",
       "      <td>000d1e9a533f62e55c289303b072733d.jpg</td>\n",
       "      <td>1</td>\n",
       "      <td>cactus</td>\n",
       "      <td>dataset/train/cactus/000d1e9a533f62e55c289303b...</td>\n",
       "    </tr>\n",
       "    <tr>\n",
       "      <th>3</th>\n",
       "      <td>0011485b40695e9138e92d0b3fb55128.jpg</td>\n",
       "      <td>1</td>\n",
       "      <td>cactus</td>\n",
       "      <td>dataset/train/cactus/0011485b40695e9138e92d0b3...</td>\n",
       "    </tr>\n",
       "    <tr>\n",
       "      <th>4</th>\n",
       "      <td>0014d7a11e90b62848904c1418fc8cf2.jpg</td>\n",
       "      <td>1</td>\n",
       "      <td>cactus</td>\n",
       "      <td>dataset/train/cactus/0014d7a11e90b62848904c141...</td>\n",
       "    </tr>\n",
       "  </tbody>\n",
       "</table>\n",
       "</div>"
      ],
      "text/plain": [
       "                                     id  has_cactus   label  \\\n",
       "0  0004be2cfeaba1c0361d39e2b000257b.jpg           1  cactus   \n",
       "1  000c8a36845c0208e833c79c1bffedd1.jpg           1  cactus   \n",
       "2  000d1e9a533f62e55c289303b072733d.jpg           1  cactus   \n",
       "3  0011485b40695e9138e92d0b3fb55128.jpg           1  cactus   \n",
       "4  0014d7a11e90b62848904c1418fc8cf2.jpg           1  cactus   \n",
       "\n",
       "                                                path  \n",
       "0  dataset/train/cactus/0004be2cfeaba1c0361d39e2b...  \n",
       "1  dataset/train/cactus/000c8a36845c0208e833c79c1...  \n",
       "2  dataset/train/cactus/000d1e9a533f62e55c289303b...  \n",
       "3  dataset/train/cactus/0011485b40695e9138e92d0b3...  \n",
       "4  dataset/train/cactus/0014d7a11e90b62848904c141...  "
      ]
     },
     "execution_count": 5,
     "metadata": {},
     "output_type": "execute_result"
    }
   ],
   "source": [
    "train_dir = 'dataset/train/'\n",
    "cactus_dir = os.path.join(train_dir, 'cactus')\n",
    "no_cactus_dir = os.path.join(train_dir, 'no_cactus')\n",
    "\n",
    "if not os.path.exists(cactus_dir):\n",
    "    os.mkdir(cactus_dir)\n",
    "    os.mkdir(no_cactus_dir)\n",
    "\n",
    "train_csv_df = pd.read_csv('dataset/train.csv')\n",
    "train_csv_df['label'] = train_csv_df.has_cactus.map({0: 'no_cactus', 1: 'cactus'})\n",
    "train_csv_df['path'] =  train_dir + train_csv_df['label'] + '/' + train_csv_df['id']\n",
    "\n",
    "train_csv_df.head()"
   ]
  },
  {
   "cell_type": "code",
   "execution_count": 6,
   "metadata": {},
   "outputs": [],
   "source": [
    "train_csv_df.apply(lambda x: os.rename(os.path.join(train_dir, x[0]), x[3]), axis=1);"
   ]
  },
  {
   "cell_type": "markdown",
   "metadata": {},
   "source": [
    "### Show image"
   ]
  },
  {
   "cell_type": "code",
   "execution_count": 7,
   "metadata": {},
   "outputs": [
    {
     "data": {
      "text/plain": [
       "<matplotlib.image.AxesImage at 0x7fd64c622b00>"
      ]
     },
     "execution_count": 7,
     "metadata": {},
     "output_type": "execute_result"
    },
    {
     "data": {
      "image/png": "[encoded data removed]",
      "text/plain": [
       "<Figure size 432x288 with 1 Axes>"
      ]
     },
     "metadata": {
      "needs_background": "light"
     },
     "output_type": "display_data"
    }
   ],
   "source": [
    "img = tf.keras.preprocessing.image.load_img(train_csv_df.loc[1, 'path'])\n",
    "x = tf.keras.preprocessing.image.img_to_array(img)\n",
    "plt.imshow(x/255.)"
   ]
  },
  {
   "cell_type": "markdown",
   "metadata": {},
   "source": [
    "### Create Image Data Generator"
   ]
  },
  {
   "cell_type": "code",
   "execution_count": 50,
   "metadata": {},
   "outputs": [
    {
     "name": "stdout",
     "output_type": "stream",
     "text": [
      "Found 15751 images belonging to 2 classes.\n",
      "Found 1749 images belonging to 2 classes.\n"
     ]
    }
   ],
   "source": [
    "train_datagen = tf.keras.preprocessing.image.ImageDataGenerator(\n",
    "    rescale=1/255.,\n",
    "    validation_split=0.1,\n",
    "    horizontal_flip=True,\n",
    "    vertical_flip=True,\n",
    "    shear_range=0.1\n",
    ")\n",
    "\n",
    "train_gen = train_datagen.flow_from_directory(train_dir, target_size=(32, 32), subset='training', batch_size=32, class_mode='binary')\n",
    "valid_gen = train_datagen.flow_from_directory(train_dir, target_size=(32, 32), subset='validation', batch_size=32, class_mode='binary')"
   ]
  },
  {
   "cell_type": "markdown",
   "metadata": {},
   "source": [
    "## Create model"
   ]
  },
  {
   "cell_type": "code",
   "execution_count": 51,
   "metadata": {},
   "outputs": [
    {
     "name": "stdout",
     "output_type": "stream",
     "text": [
      "Model: \"sequential_10\"\n",
      "_________________________________________________________________\n",
      "Layer (type)                 Output Shape              Param #   \n",
      "=================================================================\n",
      "conv2d_30 (Conv2D)           (None, 30, 30, 16)        448       \n",
      "_________________________________________________________________\n",
      "max_pooling2d_30 (MaxPooling (None, 15, 15, 16)        0         \n",
      "_________________________________________________________________\n",
      "conv2d_31 (Conv2D)           (None, 13, 13, 32)        4640      \n",
      "_________________________________________________________________\n",
      "max_pooling2d_31 (MaxPooling (None, 6, 6, 32)          0         \n",
      "_________________________________________________________________\n",
      "conv2d_32 (Conv2D)           (None, 4, 4, 64)          18496     \n",
      "_________________________________________________________________\n",
      "max_pooling2d_32 (MaxPooling (None, 2, 2, 64)          0         \n",
      "_________________________________________________________________\n",
      "flatten_10 (Flatten)         (None, 256)               0         \n",
      "_________________________________________________________________\n",
      "dense_20 (Dense)             (None, 512)               131584    \n",
      "_________________________________________________________________\n",
      "dense_21 (Dense)             (None, 1)                 513       \n",
      "=================================================================\n",
      "Total params: 155,681\n",
      "Trainable params: 155,681\n",
      "Non-trainable params: 0\n",
      "_________________________________________________________________\n"
     ]
    }
   ],
   "source": [
    "clf = tf.keras.Sequential([\n",
    "    tf.keras.layers.Conv2D(16, kernel_size=(3, 3), activation='relu', input_shape=(32, 32, 3)),\n",
    "    tf.keras.layers.MaxPool2D((2, 2)),\n",
    "    tf.keras.layers.Conv2D(32, kernel_size=(3, 3), activation='relu'),\n",
    "    tf.keras.layers.MaxPool2D((2, 2)),\n",
    "    tf.keras.layers.Conv2D(64, kernel_size=(3, 3), activation='relu'),\n",
    "    tf.keras.layers.MaxPool2D((2, 2)),\n",
    "    tf.keras.layers.Flatten(),\n",
    "    tf.keras.layers.Dense(512, activation='relu'),\n",
    "    tf.keras.layers.Dense(1, activation='sigmoid')\n",
    "])\n",
    "\n",
    "optimizer = tf.keras.optimizers.Adam(learning_rate=0.01)\n",
    "clf.compile('sgd', loss='binary_crossentropy', metrics=['accuracy'])\n",
    "\n",
    "clf.summary()"
   ]
  },
  {
   "cell_type": "markdown",
   "metadata": {},
   "source": [
    "Setting callbacks"
   ]
  },
  {
   "cell_type": "code",
   "execution_count": 52,
   "metadata": {},
   "outputs": [],
   "source": [
    "filepath_to_best_model = 'model.h5'\n",
    "\n",
    "callbacks = [\n",
    "    tf.keras.callbacks.EarlyStopping(patience=5),\n",
    "    tf.keras.callbacks.ModelCheckpoint(filepath=filepath_to_best_model, save_best_only=True)\n",
    "]"
   ]
  },
  {
   "cell_type": "code",
   "execution_count": 53,
   "metadata": {},
   "outputs": [
    {
     "name": "stdout",
     "output_type": "stream",
     "text": [
      "Epoch 1/100\n",
      "246/246 [==============================] - 8s 32ms/step - loss: 0.5976 - accuracy: 0.7506 - val_loss: 0.5480 - val_accuracy: 0.7535\n",
      "Epoch 2/100\n",
      "246/246 [==============================] - 7s 29ms/step - loss: 0.5442 - accuracy: 0.7501 - val_loss: 0.5354 - val_accuracy: 0.7535\n",
      "Epoch 3/100\n",
      "246/246 [==============================] - 8s 31ms/step - loss: 0.5408 - accuracy: 0.7468 - val_loss: 0.5324 - val_accuracy: 0.7535\n",
      "Epoch 4/100\n",
      "246/246 [==============================] - 7s 29ms/step - loss: 0.5318 - accuracy: 0.7554 - val_loss: 0.5301 - val_accuracy: 0.7535\n",
      "Epoch 5/100\n",
      "246/246 [==============================] - 8s 31ms/step - loss: 0.5356 - accuracy: 0.7487 - val_loss: 0.5281 - val_accuracy: 0.7535\n",
      "Epoch 6/100\n",
      "246/246 [==============================] - 7s 29ms/step - loss: 0.5289 - accuracy: 0.7521 - val_loss: 0.5258 - val_accuracy: 0.7535\n",
      "Epoch 7/100\n",
      "246/246 [==============================] - 8s 31ms/step - loss: 0.5286 - accuracy: 0.7511 - val_loss: 0.5228 - val_accuracy: 0.7535\n",
      "Epoch 8/100\n",
      "246/246 [==============================] - 7s 29ms/step - loss: 0.5271 - accuracy: 0.7488 - val_loss: 0.5204 - val_accuracy: 0.7535\n",
      "Epoch 9/100\n",
      "246/246 [==============================] - 8s 30ms/step - loss: 0.5212 - accuracy: 0.7520 - val_loss: 0.5172 - val_accuracy: 0.7535\n",
      "Epoch 10/100\n",
      "246/246 [==============================] - 7s 29ms/step - loss: 0.5196 - accuracy: 0.7509 - val_loss: 0.5130 - val_accuracy: 0.7535\n",
      "Epoch 11/100\n",
      "246/246 [==============================] - 8s 31ms/step - loss: 0.5144 - accuracy: 0.7532 - val_loss: 0.5093 - val_accuracy: 0.7535\n",
      "Epoch 12/100\n",
      "246/246 [==============================] - 7s 29ms/step - loss: 0.5141 - accuracy: 0.7481 - val_loss: 0.5037 - val_accuracy: 0.7535\n",
      "Epoch 13/100\n",
      "246/246 [==============================] - 8s 31ms/step - loss: 0.5075 - accuracy: 0.7485 - val_loss: 0.4972 - val_accuracy: 0.7535\n",
      "Epoch 14/100\n",
      "246/246 [==============================] - 7s 30ms/step - loss: 0.4967 - accuracy: 0.7519 - val_loss: 0.4898 - val_accuracy: 0.7535\n",
      "Epoch 15/100\n",
      "246/246 [==============================] - 8s 31ms/step - loss: 0.4873 - accuracy: 0.7535 - val_loss: 0.4810 - val_accuracy: 0.7535\n",
      "Epoch 16/100\n",
      "246/246 [==============================] - 7s 30ms/step - loss: 0.4844 - accuracy: 0.7481 - val_loss: 0.4704 - val_accuracy: 0.7535\n",
      "Epoch 17/100\n",
      "246/246 [==============================] - 8s 31ms/step - loss: 0.4698 - accuracy: 0.7515 - val_loss: 0.4576 - val_accuracy: 0.7535\n",
      "Epoch 18/100\n",
      "246/246 [==============================] - 7s 30ms/step - loss: 0.4567 - accuracy: 0.7492 - val_loss: 0.4422 - val_accuracy: 0.7535\n",
      "Epoch 19/100\n",
      "246/246 [==============================] - 8s 31ms/step - loss: 0.4354 - accuracy: 0.7539 - val_loss: 0.4252 - val_accuracy: 0.7535\n",
      "Epoch 20/100\n",
      "246/246 [==============================] - 7s 30ms/step - loss: 0.4266 - accuracy: 0.7465 - val_loss: 0.4065 - val_accuracy: 0.7535\n",
      "Epoch 21/100\n",
      "246/246 [==============================] - 7s 30ms/step - loss: 0.3970 - accuracy: 0.7575 - val_loss: 0.3900 - val_accuracy: 0.7546\n",
      "Epoch 22/100\n",
      "246/246 [==============================] - 7s 30ms/step - loss: 0.3891 - accuracy: 0.7577 - val_loss: 0.3662 - val_accuracy: 0.7766\n",
      "Epoch 23/100\n",
      "246/246 [==============================] - 7s 30ms/step - loss: 0.3599 - accuracy: 0.8014 - val_loss: 0.3460 - val_accuracy: 0.8252\n",
      "Epoch 24/100\n",
      "246/246 [==============================] - 7s 30ms/step - loss: 0.3437 - accuracy: 0.8343 - val_loss: 0.3264 - val_accuracy: 0.8449\n",
      "Epoch 25/100\n",
      "246/246 [==============================] - 8s 31ms/step - loss: 0.3266 - accuracy: 0.8631 - val_loss: 0.3063 - val_accuracy: 0.8750\n",
      "Epoch 26/100\n",
      "246/246 [==============================] - 7s 30ms/step - loss: 0.3019 - accuracy: 0.8872 - val_loss: 0.2901 - val_accuracy: 0.9074\n",
      "Epoch 27/100\n",
      "246/246 [==============================] - 7s 30ms/step - loss: 0.2838 - accuracy: 0.9047 - val_loss: 0.2714 - val_accuracy: 0.9062\n",
      "Epoch 28/100\n",
      "246/246 [==============================] - 7s 30ms/step - loss: 0.2678 - accuracy: 0.9118 - val_loss: 0.2537 - val_accuracy: 0.9201\n",
      "Epoch 29/100\n",
      "246/246 [==============================] - 8s 31ms/step - loss: 0.2501 - accuracy: 0.9212 - val_loss: 0.2376 - val_accuracy: 0.9248\n",
      "Epoch 30/100\n",
      "246/246 [==============================] - 7s 30ms/step - loss: 0.2318 - accuracy: 0.9312 - val_loss: 0.2221 - val_accuracy: 0.9363\n",
      "Epoch 31/100\n",
      "246/246 [==============================] - 8s 31ms/step - loss: 0.2165 - accuracy: 0.9342 - val_loss: 0.2078 - val_accuracy: 0.9363\n",
      "Epoch 32/100\n",
      "246/246 [==============================] - 8s 31ms/step - loss: 0.2114 - accuracy: 0.9304 - val_loss: 0.1980 - val_accuracy: 0.9340\n",
      "Epoch 33/100\n",
      "246/246 [==============================] - 8s 31ms/step - loss: 0.2019 - accuracy: 0.9328 - val_loss: 0.1880 - val_accuracy: 0.9352\n",
      "Epoch 34/100\n",
      "246/246 [==============================] - 7s 30ms/step - loss: 0.1866 - accuracy: 0.9381 - val_loss: 0.1836 - val_accuracy: 0.9387\n",
      "Epoch 35/100\n",
      "246/246 [==============================] - 7s 30ms/step - loss: 0.1852 - accuracy: 0.9362 - val_loss: 0.1773 - val_accuracy: 0.9433\n",
      "Epoch 36/100\n",
      "246/246 [==============================] - 7s 30ms/step - loss: 0.1766 - accuracy: 0.9358 - val_loss: 0.1904 - val_accuracy: 0.9294\n",
      "Epoch 37/100\n",
      "246/246 [==============================] - 7s 30ms/step - loss: 0.1712 - accuracy: 0.9393 - val_loss: 0.1719 - val_accuracy: 0.9387\n",
      "Epoch 38/100\n",
      "246/246 [==============================] - 8s 31ms/step - loss: 0.1746 - accuracy: 0.9357 - val_loss: 0.1631 - val_accuracy: 0.9456\n",
      "Epoch 39/100\n",
      "246/246 [==============================] - 8s 31ms/step - loss: 0.1706 - accuracy: 0.9358 - val_loss: 0.1639 - val_accuracy: 0.9433\n",
      "Epoch 40/100\n",
      "246/246 [==============================] - 7s 30ms/step - loss: 0.1643 - accuracy: 0.9397 - val_loss: 0.1580 - val_accuracy: 0.9444\n",
      "Epoch 41/100\n",
      "246/246 [==============================] - 8s 31ms/step - loss: 0.1583 - accuracy: 0.9416 - val_loss: 0.1583 - val_accuracy: 0.9433\n",
      "Epoch 42/100\n",
      "246/246 [==============================] - 7s 30ms/step - loss: 0.1638 - accuracy: 0.9384 - val_loss: 0.1552 - val_accuracy: 0.9421\n",
      "Epoch 43/100\n",
      "246/246 [==============================] - 8s 31ms/step - loss: 0.1612 - accuracy: 0.9400 - val_loss: 0.1570 - val_accuracy: 0.9433\n",
      "Epoch 44/100\n",
      "246/246 [==============================] - 8s 31ms/step - loss: 0.1555 - accuracy: 0.9398 - val_loss: 0.1452 - val_accuracy: 0.9514\n",
      "Epoch 45/100\n",
      "246/246 [==============================] - 8s 31ms/step - loss: 0.1549 - accuracy: 0.9409 - val_loss: 0.1447 - val_accuracy: 0.9502\n",
      "Epoch 46/100\n",
      "246/246 [==============================] - 8s 31ms/step - loss: 0.1517 - accuracy: 0.9433 - val_loss: 0.1490 - val_accuracy: 0.9491\n",
      "Epoch 47/100\n",
      "246/246 [==============================] - 7s 30ms/step - loss: 0.1544 - accuracy: 0.9393 - val_loss: 0.1396 - val_accuracy: 0.9514\n",
      "Epoch 48/100\n",
      "246/246 [==============================] - 7s 30ms/step - loss: 0.1478 - accuracy: 0.9441 - val_loss: 0.1441 - val_accuracy: 0.9456\n",
      "Epoch 49/100\n",
      "246/246 [==============================] - 7s 30ms/step - loss: 0.1468 - accuracy: 0.9442 - val_loss: 0.1399 - val_accuracy: 0.9537\n",
      "Epoch 50/100\n",
      "246/246 [==============================] - 8s 31ms/step - loss: 0.1517 - accuracy: 0.9422 - val_loss: 0.1387 - val_accuracy: 0.9491\n",
      "Epoch 51/100\n",
      "246/246 [==============================] - 8s 31ms/step - loss: 0.1407 - accuracy: 0.9440 - val_loss: 0.1380 - val_accuracy: 0.9479\n",
      "Epoch 52/100\n",
      "246/246 [==============================] - 7s 30ms/step - loss: 0.1552 - accuracy: 0.9414 - val_loss: 0.1448 - val_accuracy: 0.9456\n",
      "Epoch 53/100\n",
      "246/246 [==============================] - 8s 31ms/step - loss: 0.1408 - accuracy: 0.9459 - val_loss: 0.1399 - val_accuracy: 0.9491\n",
      "Epoch 54/100\n",
      "246/246 [==============================] - 7s 30ms/step - loss: 0.1454 - accuracy: 0.9428 - val_loss: 0.1668 - val_accuracy: 0.9387\n",
      "Epoch 55/100\n",
      "246/246 [==============================] - 8s 31ms/step - loss: 0.1408 - accuracy: 0.9450 - val_loss: 0.1285 - val_accuracy: 0.9537\n",
      "Epoch 56/100\n",
      "246/246 [==============================] - 8s 31ms/step - loss: 0.1452 - accuracy: 0.9421 - val_loss: 0.1294 - val_accuracy: 0.9537\n",
      "Epoch 57/100\n",
      "246/246 [==============================] - 8s 31ms/step - loss: 0.1338 - accuracy: 0.9499 - val_loss: 0.1478 - val_accuracy: 0.9444\n",
      "Epoch 58/100\n",
      "246/246 [==============================] - 7s 30ms/step - loss: 0.1514 - accuracy: 0.9423 - val_loss: 0.1265 - val_accuracy: 0.9537\n",
      "Epoch 59/100\n",
      "246/246 [==============================] - 8s 31ms/step - loss: 0.1339 - accuracy: 0.9466 - val_loss: 0.1517 - val_accuracy: 0.9444\n",
      "Epoch 60/100\n",
      "246/246 [==============================] - 8s 31ms/step - loss: 0.1362 - accuracy: 0.9489 - val_loss: 0.1265 - val_accuracy: 0.9560\n",
      "Epoch 61/100\n",
      "246/246 [==============================] - 8s 31ms/step - loss: 0.1391 - accuracy: 0.9460 - val_loss: 0.1254 - val_accuracy: 0.9583\n",
      "Epoch 62/100\n",
      "246/246 [==============================] - 8s 30ms/step - loss: 0.1346 - accuracy: 0.9494 - val_loss: 0.1209 - val_accuracy: 0.9572\n",
      "Epoch 63/100\n",
      "246/246 [==============================] - 8s 31ms/step - loss: 0.1390 - accuracy: 0.9459 - val_loss: 0.1344 - val_accuracy: 0.9479\n",
      "Epoch 64/100\n",
      "246/246 [==============================] - 8s 31ms/step - loss: 0.1259 - accuracy: 0.9504 - val_loss: 0.1219 - val_accuracy: 0.9595\n",
      "Epoch 65/100\n",
      "246/246 [==============================] - 8s 31ms/step - loss: 0.1305 - accuracy: 0.9501 - val_loss: 0.1214 - val_accuracy: 0.9606\n",
      "Epoch 66/100\n",
      "246/246 [==============================] - 8s 31ms/step - loss: 0.1388 - accuracy: 0.9467 - val_loss: 0.1184 - val_accuracy: 0.9618\n",
      "Epoch 67/100\n",
      "246/246 [==============================] - 8s 31ms/step - loss: 0.1256 - accuracy: 0.9519 - val_loss: 0.1261 - val_accuracy: 0.9525\n",
      "Epoch 68/100\n",
      "246/246 [==============================] - 8s 31ms/step - loss: 0.1316 - accuracy: 0.9489 - val_loss: 0.1172 - val_accuracy: 0.9560\n",
      "Epoch 69/100\n",
      "246/246 [==============================] - 8s 32ms/step - loss: 0.1287 - accuracy: 0.9520 - val_loss: 0.1245 - val_accuracy: 0.9537\n",
      "Epoch 70/100\n",
      "246/246 [==============================] - 8s 31ms/step - loss: 0.1306 - accuracy: 0.9502 - val_loss: 0.1147 - val_accuracy: 0.9560\n",
      "Epoch 71/100\n",
      "246/246 [==============================] - 8s 32ms/step - loss: 0.1191 - accuracy: 0.9543 - val_loss: 0.1155 - val_accuracy: 0.9595\n",
      "Epoch 72/100\n",
      "246/246 [==============================] - 8s 31ms/step - loss: 0.1328 - accuracy: 0.9489 - val_loss: 0.1575 - val_accuracy: 0.9398\n",
      "Epoch 73/100\n",
      "246/246 [==============================] - 8s 31ms/step - loss: 0.1280 - accuracy: 0.9498 - val_loss: 0.1150 - val_accuracy: 0.9618\n",
      "Epoch 74/100\n",
      "246/246 [==============================] - 8s 31ms/step - loss: 0.1258 - accuracy: 0.9521 - val_loss: 0.1186 - val_accuracy: 0.9537\n",
      "Epoch 75/100\n",
      "246/246 [==============================] - 8s 32ms/step - loss: 0.1202 - accuracy: 0.9562 - val_loss: 0.1241 - val_accuracy: 0.9514\n"
     ]
    }
   ],
   "source": [
    "batch_size = 64\n",
    "\n",
    "history = clf.fit_generator(\n",
    "    train_gen, \n",
    "    steps_per_epoch=int(train_gen.samples/batch_size),\n",
    "    validation_data=valid_gen,\n",
    "    validation_steps=int(valid_gen.samples/batch_size),\n",
    "    epochs=100,\n",
    "    verbose=1,\n",
    "    callbacks=callbacks\n",
    ")"
   ]
  },
  {
   "cell_type": "code",
   "execution_count": 54,
   "metadata": {},
   "outputs": [
    {
     "data": {
      "image/png": "[encoded data removed]",
      "text/plain": [
       "<Figure size 1440x288 with 2 Axes>"
      ]
     },
     "metadata": {
      "needs_background": "light"
     },
     "output_type": "display_data"
    }
   ],
   "source": [
    "fig, axes = plt.subplots(nrows=1, ncols=2, figsize=(20, 4))\n",
    "epochs = range(len(history.history['loss']))\n",
    "\n",
    "axes[0].plot(epochs, history.history['loss'], 'r', label=\"Training Loss\")\n",
    "axes[0].plot(epochs, history.history['val_loss'], 'b', label=\"Validation Loss\")\n",
    "axes[0].set_title('Training and validation loss')\n",
    "\n",
    "axes[1].plot(epochs, history.history['accuracy'], 'r', label=\"Training Accuracy\")\n",
    "axes[1].plot(epochs, history.history['val_accuracy'], 'b', label=\"Validation Accuracy\")\n",
    "axes[1].set_title('Training and validation accuracy');"
   ]
  },
  {
   "cell_type": "code",
   "execution_count": null,
   "metadata": {},
   "outputs": [],
   "source": []
  },
  {
   "cell_type": "code",
   "execution_count": null,
   "metadata": {},
   "outputs": [],
   "source": []
  }
 ],
 "metadata": {
  "kernelspec": {
   "display_name": "Python 3",
   "language": "python",
   "name": "python3"
  },
  "language_info": {
   "codemirror_mode": {
    "name": "ipython",
    "version": 3
   },
   "file_extension": ".py",
   "mimetype": "text/x-python",
   "name": "python",
   "nbconvert_exporter": "python",
   "pygments_lexer": "ipython3",
   "version": "3.6.8"
  }
 },
 "nbformat": 4,
 "nbformat_minor": 2
}
