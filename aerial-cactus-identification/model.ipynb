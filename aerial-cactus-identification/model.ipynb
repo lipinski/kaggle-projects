{
 "cells": [
  {
   "cell_type": "code",
   "execution_count": 1,
   "metadata": {},
   "outputs": [],
   "source": [
    "import os\n",
    "import tensorflow as tf\n",
    "import pandas as pd\n",
    "import matplotlib.pyplot as plt\n",
    "import seaborn as sns"
   ]
  },
  {
   "cell_type": "code",
   "execution_count": 2,
   "metadata": {},
   "outputs": [
    {
     "data": {
      "text/plain": [
       "'2.2.4-tf'"
      ]
     },
     "execution_count": 2,
     "metadata": {},
     "output_type": "execute_result"
    }
   ],
   "source": [
    "tf.keras.__version__"
   ]
  },
  {
   "cell_type": "code",
   "execution_count": 3,
   "metadata": {},
   "outputs": [
    {
     "name": "stdout",
     "output_type": "stream",
     "text": [
      "The following GPU devices are available: /device:GPU:0\n"
     ]
    }
   ],
   "source": [
    "tf.config.gpu.set_per_process_memory_growth(True)\n",
    "# sess = tf.compat.v1.Session(config = config)\n",
    "\n",
    "# Check available GPU devices.\n",
    "print(\"The following GPU devices are available: %s\" % tf.test.gpu_device_name())"
   ]
  },
  {
   "cell_type": "markdown",
   "metadata": {},
   "source": [
    "## Loading datasets"
   ]
  },
  {
   "cell_type": "markdown",
   "metadata": {},
   "source": [
    "Data source: https://www.kaggle.com/c/aerial-cactus-identification/data"
   ]
  },
  {
   "cell_type": "markdown",
   "metadata": {},
   "source": [
    "### Move train set to subdirs for each class"
   ]
  },
  {
   "cell_type": "code",
   "execution_count": 4,
   "metadata": {},
   "outputs": [],
   "source": [
    "%%bash \n",
    "unzip train.zip -d dataset/ > /dev/null 2>&1"
   ]
  },
  {
   "cell_type": "code",
   "execution_count": 5,
   "metadata": {},
   "outputs": [
    {
     "data": {
      "text/html": [
       "<div>\n",
       "<style scoped>\n",
       "    .dataframe tbody tr th:only-of-type {\n",
       "        vertical-align: middle;\n",
       "    }\n",
       "\n",
       "    .dataframe tbody tr th {\n",
       "        vertical-align: top;\n",
       "    }\n",
       "\n",
       "    .dataframe thead th {\n",
       "        text-align: right;\n",
       "    }\n",
       "</style>\n",
       "<table border=\"1\" class=\"dataframe\">\n",
       "  <thead>\n",
       "    <tr style=\"text-align: right;\">\n",
       "      <th></th>\n",
       "      <th>id</th>\n",
       "      <th>has_cactus</th>\n",
       "      <th>label</th>\n",
       "      <th>path</th>\n",
       "    </tr>\n",
       "  </thead>\n",
       "  <tbody>\n",
       "    <tr>\n",
       "      <th>0</th>\n",
       "      <td>0004be2cfeaba1c0361d39e2b000257b.jpg</td>\n",
       "      <td>1</td>\n",
       "      <td>cactus</td>\n",
       "      <td>dataset/train/cactus/0004be2cfeaba1c0361d39e2b...</td>\n",
       "    </tr>\n",
       "    <tr>\n",
       "      <th>1</th>\n",
       "      <td>000c8a36845c0208e833c79c1bffedd1.jpg</td>\n",
       "      <td>1</td>\n",
       "      <td>cactus</td>\n",
       "      <td>dataset/train/cactus/000c8a36845c0208e833c79c1...</td>\n",
       "    </tr>\n",
       "    <tr>\n",
       "      <th>2</th>\n",
       "      <td>000d1e9a533f62e55c289303b072733d.jpg</td>\n",
       "      <td>1</td>\n",
       "      <td>cactus</td>\n",
       "      <td>dataset/train/cactus/000d1e9a533f62e55c289303b...</td>\n",
       "    </tr>\n",
       "    <tr>\n",
       "      <th>3</th>\n",
       "      <td>0011485b40695e9138e92d0b3fb55128.jpg</td>\n",
       "      <td>1</td>\n",
       "      <td>cactus</td>\n",
       "      <td>dataset/train/cactus/0011485b40695e9138e92d0b3...</td>\n",
       "    </tr>\n",
       "    <tr>\n",
       "      <th>4</th>\n",
       "      <td>0014d7a11e90b62848904c1418fc8cf2.jpg</td>\n",
       "      <td>1</td>\n",
       "      <td>cactus</td>\n",
       "      <td>dataset/train/cactus/0014d7a11e90b62848904c141...</td>\n",
       "    </tr>\n",
       "  </tbody>\n",
       "</table>\n",
       "</div>"
      ],
      "text/plain": [
       "                                     id  has_cactus   label  \\\n",
       "0  0004be2cfeaba1c0361d39e2b000257b.jpg           1  cactus   \n",
       "1  000c8a36845c0208e833c79c1bffedd1.jpg           1  cactus   \n",
       "2  000d1e9a533f62e55c289303b072733d.jpg           1  cactus   \n",
       "3  0011485b40695e9138e92d0b3fb55128.jpg           1  cactus   \n",
       "4  0014d7a11e90b62848904c1418fc8cf2.jpg           1  cactus   \n",
       "\n",
       "                                                path  \n",
       "0  dataset/train/cactus/0004be2cfeaba1c0361d39e2b...  \n",
       "1  dataset/train/cactus/000c8a36845c0208e833c79c1...  \n",
       "2  dataset/train/cactus/000d1e9a533f62e55c289303b...  \n",
       "3  dataset/train/cactus/0011485b40695e9138e92d0b3...  \n",
       "4  dataset/train/cactus/0014d7a11e90b62848904c141...  "
      ]
     },
     "execution_count": 5,
     "metadata": {},
     "output_type": "execute_result"
    }
   ],
   "source": [
    "train_dir = 'dataset/train/'\n",
    "cactus_dir = os.path.join(train_dir, 'cactus')\n",
    "no_cactus_dir = os.path.join(train_dir, 'no_cactus')\n",
    "\n",
    "if not os.path.exists(cactus_dir):\n",
    "    os.mkdir(cactus_dir)\n",
    "    os.mkdir(no_cactus_dir)\n",
    "\n",
    "train_csv_df = pd.read_csv('dataset/train.csv')\n",
    "train_csv_df['label'] = train_csv_df.has_cactus.map({0: 'no_cactus', 1: 'cactus'})\n",
    "train_csv_df['path'] =  train_dir + train_csv_df['label'] + '/' + train_csv_df['id']\n",
    "\n",
    "train_csv_df.head()"
   ]
  },
  {
   "cell_type": "code",
   "execution_count": 6,
   "metadata": {},
   "outputs": [],
   "source": [
    "train_csv_df.apply(lambda x: os.rename(os.path.join(train_dir, x[0]), x[3]), axis=1);"
   ]
  },
  {
   "cell_type": "markdown",
   "metadata": {},
   "source": [
    "### Show image"
   ]
  },
  {
   "cell_type": "code",
   "execution_count": 7,
   "metadata": {},
   "outputs": [
    {
     "data": {
      "text/plain": [
       "<matplotlib.image.AxesImage at 0x7fa85c168278>"
      ]
     },
     "execution_count": 7,
     "metadata": {},
     "output_type": "execute_result"
    },
    {
     "data": {
      "image/png": "[encoded data removed]",
      "text/plain": [
       "<Figure size 432x288 with 1 Axes>"
      ]
     },
     "metadata": {
      "needs_background": "light"
     },
     "output_type": "display_data"
    }
   ],
   "source": [
    "img = tf.keras.preprocessing.image.load_img(train_csv_df.loc[1, 'path'])\n",
    "x = tf.keras.preprocessing.image.img_to_array(img)\n",
    "plt.imshow(x/255.)"
   ]
  },
  {
   "cell_type": "markdown",
   "metadata": {},
   "source": [
    "### Create Image Data Generator"
   ]
  },
  {
   "cell_type": "code",
   "execution_count": 17,
   "metadata": {},
   "outputs": [
    {
     "name": "stdout",
     "output_type": "stream",
     "text": [
      "Found 15751 images belonging to 2 classes.\n",
      "Found 1749 images belonging to 2 classes.\n"
     ]
    }
   ],
   "source": [
    "train_datagen = tf.keras.preprocessing.image.ImageDataGenerator(\n",
    "    rescale=1/255.,\n",
    "    validation_split=0.1,\n",
    "    horizontal_flip=True,\n",
    "    vertical_flip=True,\n",
    "#     shear_range=0.1,\n",
    "    brightness_range = (1.0, 1.0)\n",
    ")\n",
    "\n",
    "train_gen = train_datagen.flow_from_directory(train_dir, target_size=(32, 32), subset='training', batch_size=32, class_mode='binary')\n",
    "valid_gen = train_datagen.flow_from_directory(train_dir, target_size=(32, 32), subset='validation', batch_size=32, class_mode='binary')"
   ]
  },
  {
   "cell_type": "markdown",
   "metadata": {},
   "source": [
    "## Create model"
   ]
  },
  {
   "cell_type": "code",
   "execution_count": 25,
   "metadata": {},
   "outputs": [
    {
     "name": "stdout",
     "output_type": "stream",
     "text": [
      "Model: \"sequential_7\"\n",
      "_________________________________________________________________\n",
      "Layer (type)                 Output Shape              Param #   \n",
      "=================================================================\n",
      "conv2d_25 (Conv2D)           (None, 30, 30, 32)        896       \n",
      "_________________________________________________________________\n",
      "max_pooling2d_25 (MaxPooling (None, 15, 15, 32)        0         \n",
      "_________________________________________________________________\n",
      "conv2d_26 (Conv2D)           (None, 13, 13, 64)        18496     \n",
      "_________________________________________________________________\n",
      "max_pooling2d_26 (MaxPooling (None, 6, 6, 64)          0         \n",
      "_________________________________________________________________\n",
      "conv2d_27 (Conv2D)           (None, 4, 4, 128)         73856     \n",
      "_________________________________________________________________\n",
      "max_pooling2d_27 (MaxPooling (None, 2, 2, 128)         0         \n",
      "_________________________________________________________________\n",
      "flatten_7 (Flatten)          (None, 512)               0         \n",
      "_________________________________________________________________\n",
      "dense_14 (Dense)             (None, 512)               262656    \n",
      "_________________________________________________________________\n",
      "dense_15 (Dense)             (None, 1)                 513       \n",
      "=================================================================\n",
      "Total params: 356,417\n",
      "Trainable params: 356,417\n",
      "Non-trainable params: 0\n",
      "_________________________________________________________________\n"
     ]
    }
   ],
   "source": [
    "clf = tf.keras.Sequential([\n",
    "    tf.keras.layers.Conv2D(32, kernel_size=(3, 3), activation='relu', input_shape=(32, 32, 3)),\n",
    "    tf.keras.layers.MaxPool2D((2, 2)),\n",
    "    tf.keras.layers.Conv2D(64, kernel_size=(3, 3), activation='relu'),\n",
    "    tf.keras.layers.MaxPool2D((2, 2)),\n",
    "    tf.keras.layers.Conv2D(128, kernel_size=(3, 3), activation='relu'),\n",
    "    tf.keras.layers.MaxPool2D((2, 2)),\n",
    "    tf.keras.layers.Flatten(),\n",
    "    tf.keras.layers.Dense(512, activation='relu'),\n",
    "    tf.keras.layers.Dense(1, activation='sigmoid')\n",
    "])\n",
    "\n",
    "optimizer = tf.keras.optimizers.Adam(learning_rate=0.001)\n",
    "clf.compile(optimizer, loss='binary_crossentropy', metrics=['accuracy'])\n",
    "\n",
    "clf.summary()"
   ]
  },
  {
   "cell_type": "markdown",
   "metadata": {},
   "source": [
    "Setting callbacks"
   ]
  },
  {
   "cell_type": "code",
   "execution_count": 26,
   "metadata": {},
   "outputs": [],
   "source": [
    "filepath_to_best_model = 'model.h5'\n",
    "\n",
    "callbacks = [\n",
    "    tf.keras.callbacks.EarlyStopping(patience=10),\n",
    "    tf.keras.callbacks.ModelCheckpoint(filepath=filepath_to_best_model, save_best_only=True)\n",
    "]"
   ]
  },
  {
   "cell_type": "code",
   "execution_count": 27,
   "metadata": {},
   "outputs": [
    {
     "name": "stdout",
     "output_type": "stream",
     "text": [
      "Epoch 1/100\n",
      "246/246 [==============================] - 7s 29ms/step - loss: 0.2273 - accuracy: 0.9046 - val_loss: 0.1136 - val_accuracy: 0.9653\n",
      "Epoch 2/100\n",
      "246/246 [==============================] - 6s 24ms/step - loss: 0.1063 - accuracy: 0.9602 - val_loss: 0.0666 - val_accuracy: 0.9757\n",
      "Epoch 3/100\n",
      "246/246 [==============================] - 7s 27ms/step - loss: 0.0903 - accuracy: 0.9657 - val_loss: 0.0610 - val_accuracy: 0.9769\n",
      "Epoch 4/100\n",
      "246/246 [==============================] - 6s 26ms/step - loss: 0.0840 - accuracy: 0.9685 - val_loss: 0.0544 - val_accuracy: 0.9803\n",
      "Epoch 5/100\n",
      "246/246 [==============================] - 7s 28ms/step - loss: 0.0805 - accuracy: 0.9704 - val_loss: 0.1066 - val_accuracy: 0.9606\n",
      "Epoch 6/100\n",
      "246/246 [==============================] - 6s 26ms/step - loss: 0.0745 - accuracy: 0.9731 - val_loss: 0.0463 - val_accuracy: 0.9850\n",
      "Epoch 7/100\n",
      "246/246 [==============================] - 7s 27ms/step - loss: 0.0632 - accuracy: 0.9763 - val_loss: 0.0408 - val_accuracy: 0.9861\n",
      "Epoch 8/100\n",
      "246/246 [==============================] - 6s 25ms/step - loss: 0.0569 - accuracy: 0.9797 - val_loss: 0.0399 - val_accuracy: 0.9873\n",
      "Epoch 9/100\n",
      "246/246 [==============================] - 7s 27ms/step - loss: 0.0542 - accuracy: 0.9811 - val_loss: 0.0328 - val_accuracy: 0.9884\n",
      "Epoch 10/100\n",
      "246/246 [==============================] - 6s 25ms/step - loss: 0.0606 - accuracy: 0.9785 - val_loss: 0.0593 - val_accuracy: 0.9792\n",
      "Epoch 11/100\n",
      "246/246 [==============================] - 7s 27ms/step - loss: 0.0532 - accuracy: 0.9819 - val_loss: 0.0473 - val_accuracy: 0.9884\n",
      "Epoch 12/100\n",
      "246/246 [==============================] - 6s 26ms/step - loss: 0.0510 - accuracy: 0.9822 - val_loss: 0.0447 - val_accuracy: 0.9838\n",
      "Epoch 13/100\n",
      "246/246 [==============================] - 7s 27ms/step - loss: 0.0607 - accuracy: 0.9777 - val_loss: 0.1136 - val_accuracy: 0.9525\n",
      "Epoch 14/100\n",
      "246/246 [==============================] - 6s 26ms/step - loss: 0.0483 - accuracy: 0.9834 - val_loss: 0.0406 - val_accuracy: 0.9884\n",
      "Epoch 15/100\n",
      "246/246 [==============================] - 7s 27ms/step - loss: 0.0419 - accuracy: 0.9857 - val_loss: 0.0386 - val_accuracy: 0.9907\n",
      "Epoch 16/100\n",
      "246/246 [==============================] - 6s 26ms/step - loss: 0.0500 - accuracy: 0.9820 - val_loss: 0.0448 - val_accuracy: 0.9861\n",
      "Epoch 17/100\n",
      "246/246 [==============================] - 7s 27ms/step - loss: 0.0325 - accuracy: 0.9876 - val_loss: 0.0352 - val_accuracy: 0.9884\n",
      "Epoch 18/100\n",
      "246/246 [==============================] - 6s 26ms/step - loss: 0.0532 - accuracy: 0.9815 - val_loss: 0.0399 - val_accuracy: 0.9884\n",
      "Epoch 19/100\n",
      "246/246 [==============================] - 6s 26ms/step - loss: 0.0432 - accuracy: 0.9845 - val_loss: 0.0598 - val_accuracy: 0.9757\n"
     ]
    }
   ],
   "source": [
    "batch_size = 64\n",
    "\n",
    "history = clf.fit_generator(\n",
    "    train_gen, \n",
    "    steps_per_epoch=int(train_gen.samples/batch_size),\n",
    "    validation_data=valid_gen,\n",
    "    validation_steps=int(valid_gen.samples/batch_size),\n",
    "    epochs=100,\n",
    "    verbose=1,\n",
    "    callbacks=callbacks\n",
    ")"
   ]
  },
  {
   "cell_type": "code",
   "execution_count": 28,
   "metadata": {},
   "outputs": [
    {
     "data": {
      "image/png": "[encoded data removed]",
      "text/plain": [
       "<Figure size 1440x288 with 2 Axes>"
      ]
     },
     "metadata": {
      "needs_background": "light"
     },
     "output_type": "display_data"
    }
   ],
   "source": [
    "fig, axes = plt.subplots(nrows=1, ncols=2, figsize=(20, 4))\n",
    "epochs = range(len(history.history['loss']))\n",
    "\n",
    "axes[0].plot(epochs, history.history['loss'], 'r', label=\"Training Loss\")\n",
    "axes[0].scatter(epochs, history.history['val_loss'], label=\"Validation Loss\")\n",
    "axes[0].set_title('Training and validation loss')\n",
    "\n",
    "axes[1].plot(epochs, history.history['accuracy'], 'r', label=\"Training Accuracy\")\n",
    "axes[1].scatter(epochs, history.history['val_accuracy'],label=\"Validation Accuracy\")\n",
    "axes[1].set_title('Training and validation accuracy');"
   ]
  },
  {
   "cell_type": "markdown",
   "metadata": {},
   "source": [
    "## Loading best model"
   ]
  },
  {
   "cell_type": "code",
   "execution_count": 4,
   "metadata": {},
   "outputs": [],
   "source": [
    "clf.load_weights('model.h5')"
   ]
  },
  {
   "cell_type": "markdown",
   "metadata": {},
   "source": [
    "## Predict"
   ]
  },
  {
   "cell_type": "markdown",
   "metadata": {},
   "source": [
    "### Unzip testing dataset"
   ]
  },
  {
   "cell_type": "code",
   "execution_count": 14,
   "metadata": {},
   "outputs": [],
   "source": [
    "%%bash \n",
    "unzip test.zip -d dataset/test > /dev/null 2>&1"
   ]
  },
  {
   "cell_type": "markdown",
   "metadata": {},
   "source": [
    "### Create ImageDataGenerator for testing data"
   ]
  },
  {
   "cell_type": "code",
   "execution_count": 15,
   "metadata": {},
   "outputs": [
    {
     "name": "stdout",
     "output_type": "stream",
     "text": [
      "Found 4000 images belonging to 1 classes.\n"
     ]
    }
   ],
   "source": [
    "test_datagen = tf.keras.preprocessing.image.ImageDataGenerator(rescale=1/255.)\n",
    "test_dir = 'dataset/test/'\n",
    "\n",
    "test_gen = test_datagen.flow_from_directory(test_dir, class_mode=None, target_size=(32, 32), batch_size=64, shuffle=False)"
   ]
  },
  {
   "cell_type": "markdown",
   "metadata": {},
   "source": [
    "## Predict labels"
   ]
  },
  {
   "cell_type": "code",
   "execution_count": 18,
   "metadata": {},
   "outputs": [],
   "source": [
    "y_test_pred = clf.predict_generator(test_gen)"
   ]
  },
  {
   "cell_type": "code",
   "execution_count": 20,
   "metadata": {},
   "outputs": [
    {
     "data": {
      "text/html": [
       "<div>\n",
       "<style scoped>\n",
       "    .dataframe tbody tr th:only-of-type {\n",
       "        vertical-align: middle;\n",
       "    }\n",
       "\n",
       "    .dataframe tbody tr th {\n",
       "        vertical-align: top;\n",
       "    }\n",
       "\n",
       "    .dataframe thead th {\n",
       "        text-align: right;\n",
       "    }\n",
       "</style>\n",
       "<table border=\"1\" class=\"dataframe\">\n",
       "  <thead>\n",
       "    <tr style=\"text-align: right;\">\n",
       "      <th></th>\n",
       "      <th>id</th>\n",
       "      <th>has_cactus</th>\n",
       "    </tr>\n",
       "  </thead>\n",
       "  <tbody>\n",
       "    <tr>\n",
       "      <th>0</th>\n",
       "      <td>000940378805c44108d287872b2f04ce.jpg</td>\n",
       "      <td>0.050967</td>\n",
       "    </tr>\n",
       "    <tr>\n",
       "      <th>1</th>\n",
       "      <td>0017242f54ececa4512b4d7937d1e21e.jpg</td>\n",
       "      <td>0.001664</td>\n",
       "    </tr>\n",
       "    <tr>\n",
       "      <th>2</th>\n",
       "      <td>001ee6d8564003107853118ab87df407.jpg</td>\n",
       "      <td>0.963704</td>\n",
       "    </tr>\n",
       "    <tr>\n",
       "      <th>3</th>\n",
       "      <td>002e175c3c1e060769475f52182583d0.jpg</td>\n",
       "      <td>0.938014</td>\n",
       "    </tr>\n",
       "    <tr>\n",
       "      <th>4</th>\n",
       "      <td>0036e44a7e8f7218e9bc7bf8137e4943.jpg</td>\n",
       "      <td>0.158130</td>\n",
       "    </tr>\n",
       "  </tbody>\n",
       "</table>\n",
       "</div>"
      ],
      "text/plain": [
       "                                     id  has_cactus\n",
       "0  000940378805c44108d287872b2f04ce.jpg    0.050967\n",
       "1  0017242f54ececa4512b4d7937d1e21e.jpg    0.001664\n",
       "2  001ee6d8564003107853118ab87df407.jpg    0.963704\n",
       "3  002e175c3c1e060769475f52182583d0.jpg    0.938014\n",
       "4  0036e44a7e8f7218e9bc7bf8137e4943.jpg    0.158130"
      ]
     },
     "execution_count": 20,
     "metadata": {},
     "output_type": "execute_result"
    }
   ],
   "source": [
    "sub_df = pd.read_csv('dataset/sample_submission.csv')\n",
    "sub_df['has_cactus'] = y_test_pred\n",
    "sub_df.head()"
   ]
  },
  {
   "cell_type": "code",
   "execution_count": 21,
   "metadata": {},
   "outputs": [],
   "source": [
    "sub_df.to_csv('submission.csv', index=False)"
   ]
  },
  {
   "cell_type": "code",
   "execution_count": null,
   "metadata": {},
   "outputs": [],
   "source": []
  }
 ],
 "metadata": {
  "kernelspec": {
   "display_name": "Python 3",
   "language": "python",
   "name": "python3"
  },
  "language_info": {
   "codemirror_mode": {
    "name": "ipython",
    "version": 3
   },
   "file_extension": ".py",
   "mimetype": "text/x-python",
   "name": "python",
   "nbconvert_exporter": "python",
   "pygments_lexer": "ipython3",
   "version": "3.6.8"
  }
 },
 "nbformat": 4,
 "nbformat_minor": 2
}
